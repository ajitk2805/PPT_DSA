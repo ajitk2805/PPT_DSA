{
 "cells": [
  {
   "cell_type": "markdown",
   "metadata": {},
   "source": [
    "# Assignment Questions 15"
   ]
  },
  {
   "cell_type": "markdown",
   "metadata": {},
   "source": [
    "<aside>\n",
    "💡 **Question 1**\n",
    "\n",
    "Given an array **arr[ ]** of size **N** having elements, the task is to find the next greater element for each element of the array in order of their appearance in the array.Next greater element of an element in the array is the nearest element on the right which is greater than the current element.If there does not exist next greater of current element, then next greater element for current element is -1. For example, next greater of the last element is always -1.\n",
    "\n",
    "**Example 1:**\n",
    "\n",
    "```\n",
    "Input:\n",
    "N = 4, arr[] = [1 3 2 4]\n",
    "Output:\n",
    "3 4 4 -1\n",
    "Explanation:\n",
    "In the array, the next larger element\n",
    "to 1 is 3 , 3 is 4 , 2 is 4 and for 4 ?\n",
    "since it doesn't exist, it is -1.\n",
    "\n",
    "```\n",
    "\n",
    "**Example 2:**\n",
    "```\n",
    "Input:\n",
    "N = 5, arr[] [6 8 0 1 3]\n",
    "Output:\n",
    "8 -1 1 3 -1\n",
    "Explanation:\n",
    "In the array, the next larger element to\n",
    "6 is 8, for 8 there is no larger elements\n",
    "hence it is -1, for 0 it is 1 , for 1 it\n",
    "is 3 and then for 3 there is no larger\n",
    "element on right and hence -1.\n",
    "```\n",
    "</aside>"
   ]
  },
  {
   "cell_type": "code",
   "execution_count": 1,
   "metadata": {},
   "outputs": [
    {
     "name": "stdout",
     "output_type": "stream",
     "text": [
      "[3, 4, 4, -1]\n",
      "[8, -1, 1, 3, -1]\n"
     ]
    }
   ],
   "source": [
    "def next_greater_element(arr):\n",
    "    stack = []\n",
    "    result = [-1] * len(arr)\n",
    "\n",
    "    for i in range(len(arr)):\n",
    "        while stack and arr[i] > arr[stack[-1]]:\n",
    "            index = stack.pop()\n",
    "            result[index] = arr[i]\n",
    "        stack.append(i)\n",
    "\n",
    "    return result\n",
    "\n",
    "# Test case 1\n",
    "arr1 = [1, 3, 2, 4]\n",
    "print(next_greater_element(arr1))  # Output: [3, 4, 4, -1]\n",
    "\n",
    "# Test case 2\n",
    "arr2 = [6, 8, 0, 1, 3]\n",
    "print(next_greater_element(arr2))  # Output: [8, -1, 1, 3, -1]\n"
   ]
  },
  {
   "cell_type": "markdown",
   "metadata": {},
   "source": [
    "<aside>\n",
    "💡 **Question 2**\n",
    "\n",
    "Given an array **a** of integers of length **n**, find the nearest smaller number for every element such that the smaller element is on left side.If no small element present on the left print -1.\n",
    "\n",
    "**Example 1:**\n",
    "\n",
    "```\n",
    "Input: n = 3\n",
    "a = {1, 6, 2}\n",
    "Output: -1 1 1\n",
    "Explaination: There is no number at the\n",
    "left of 1. Smaller number than 6 and 2 is 1.\n",
    "```\n",
    "\n",
    "**Example 2:**\n",
    "```\n",
    "Input: n = 6\n",
    "a = {1, 5, 0, 3, 4, 5}\n",
    "Output: -1 1 -1 0 3 4\n",
    "Explaination: Upto 3 it is easy to see\n",
    "the smaller numbers. But for 4 the smaller\n",
    "numbers are 1, 0 and 3. But among them 3\n",
    "is closest. Similary for 5 it is 4.\n",
    "```\n",
    "</aside>"
   ]
  },
  {
   "cell_type": "code",
   "execution_count": 2,
   "metadata": {},
   "outputs": [
    {
     "name": "stdout",
     "output_type": "stream",
     "text": [
      "[-1, 1, 1]\n",
      "[-1, 1, -1, 0, 3, 4]\n"
     ]
    }
   ],
   "source": [
    "def nearest_smaller_number(arr):\n",
    "    stack = []\n",
    "    result = []\n",
    "\n",
    "    for i in range(len(arr)):\n",
    "        while stack and arr[i] <= stack[-1]:\n",
    "            stack.pop()\n",
    "        if stack:\n",
    "            result.append(stack[-1])\n",
    "        else:\n",
    "            result.append(-1)\n",
    "        stack.append(arr[i])\n",
    "\n",
    "    return result\n",
    "\n",
    "# Test case 1\n",
    "arr1 = [1, 6, 2]\n",
    "print(nearest_smaller_number(arr1))  # Output: [-1, 1, 1]\n",
    "\n",
    "# Test case 2\n",
    "arr2 = [1, 5, 0, 3, 4, 5]\n",
    "print(nearest_smaller_number(arr2))  # Output: [-1, 1, -1, 0, 3, 4]\n"
   ]
  },
  {
   "cell_type": "markdown",
   "metadata": {},
   "source": [
    "<aside>\n",
    "💡 **Question 3**\n",
    "\n",
    "Implement a Stack using two queues **q1** and **q2**.\n",
    "\n",
    "**Example 1:**\n",
    "\n",
    "```\n",
    "Input:\n",
    "push(2)\n",
    "push(3)\n",
    "pop()\n",
    "push(4)\n",
    "pop()\n",
    "Output:3 4\n",
    "Explanation:\n",
    "push(2) the stack will be {2}\n",
    "push(3) the stack will be {2 3}\n",
    "pop()   poped element will be 3 the\n",
    "        stack will be {2}\n",
    "push(4) the stack will be {2 4}\n",
    "pop()   poped element will be 4\n",
    "\n",
    "```\n",
    "\n",
    "**Example 2:**\n",
    "```\n",
    "Input:\n",
    "push(2)\n",
    "pop()\n",
    "pop()\n",
    "push(3)\n",
    "Output:2 -1\n",
    "```\n",
    "</aside>"
   ]
  },
  {
   "cell_type": "code",
   "execution_count": 3,
   "metadata": {},
   "outputs": [
    {
     "name": "stdout",
     "output_type": "stream",
     "text": [
      "3\n",
      "4\n",
      "2\n",
      "-1\n"
     ]
    }
   ],
   "source": [
    "from queue import Queue\n",
    "\n",
    "class Stack:\n",
    "    def __init__(self):\n",
    "        self.q1 = Queue()\n",
    "        self.q2 = Queue()\n",
    "\n",
    "    def push(self, data):\n",
    "        self.q1.put(data)\n",
    "\n",
    "    def pop(self):\n",
    "        if self.q1.empty():\n",
    "            return -1\n",
    "\n",
    "        while self.q1.qsize() > 1:\n",
    "            self.q2.put(self.q1.get())\n",
    "\n",
    "        element = self.q1.get()\n",
    "\n",
    "        self.q1, self.q2 = self.q2, self.q1\n",
    "\n",
    "        return element\n",
    "\n",
    "# Test case 1\n",
    "s = Stack()\n",
    "s.push(2)\n",
    "s.push(3)\n",
    "print(s.pop())  # Output: 3\n",
    "s.push(4)\n",
    "print(s.pop())  # Output: 4\n",
    "\n",
    "# Test case 2\n",
    "s = Stack()\n",
    "s.push(2)\n",
    "print(s.pop())  # Output: 2\n",
    "print(s.pop())  # Output: -1\n"
   ]
  },
  {
   "cell_type": "markdown",
   "metadata": {},
   "source": [
    "<aside>\n",
    "💡 **Question 4**\n",
    "\n",
    "You are given a stack **St**. You have to reverse the stack using recursion.\n",
    "\n",
    "**Example 1:**\n",
    "\n",
    "```\n",
    "Input:St = {3,2,1,7,6}\n",
    "Output:{6,7,1,2,3}\n",
    "```\n",
    "\n",
    "**Example 2:**\n",
    "```\n",
    "Input:St = {4,3,9,6}\n",
    "Output:{6,9,3,4}\n",
    "```\n",
    "</aside>"
   ]
  },
  {
   "cell_type": "code",
   "execution_count": 4,
   "metadata": {},
   "outputs": [
    {
     "name": "stdout",
     "output_type": "stream",
     "text": [
      "[6, 7, 1, 2, 3]\n",
      "[6, 9, 3, 4]\n"
     ]
    }
   ],
   "source": [
    "def reverse_stack(stack):\n",
    "    if not stack:\n",
    "        return\n",
    "\n",
    "    # Remove the top element\n",
    "    element = stack.pop()\n",
    "\n",
    "    # Reverse the remaining stack\n",
    "    reverse_stack(stack)\n",
    "\n",
    "    # Insert the element at the bottom of the reversed stack\n",
    "    insert_at_bottom(stack, element)\n",
    "\n",
    "def insert_at_bottom(stack, element):\n",
    "    if not stack:\n",
    "        stack.append(element)\n",
    "        return\n",
    "\n",
    "    top = stack.pop()\n",
    "\n",
    "    # Recursively insert the element at the bottom\n",
    "    insert_at_bottom(stack, element)\n",
    "\n",
    "    # Insert the top element back\n",
    "    stack.append(top)\n",
    "\n",
    "# Test case 1\n",
    "stack1 = [3, 2, 1, 7, 6]\n",
    "reverse_stack(stack1)\n",
    "print(stack1)  # Output: [6, 7, 1, 2, 3]\n",
    "\n",
    "# Test case 2\n",
    "stack2 = [4, 3, 9, 6]\n",
    "reverse_stack(stack2)\n",
    "print(stack2)  # Output: [6, 9, 3, 4]\n"
   ]
  },
  {
   "cell_type": "markdown",
   "metadata": {},
   "source": [
    "<aside>\n",
    "💡 **Question 5**\n",
    "\n",
    "You are given a string **S**, the task is to reverse the string using stack.\n",
    "\n",
    "**Example 1:**\n",
    "```\n",
    "Input: S=\"GeeksforGeeks\"\n",
    "Output: skeeGrofskeeG\n",
    "```\n",
    "</aside>"
   ]
  },
  {
   "cell_type": "code",
   "execution_count": 5,
   "metadata": {},
   "outputs": [
    {
     "name": "stdout",
     "output_type": "stream",
     "text": [
      "skeeGrofskeeG\n"
     ]
    }
   ],
   "source": [
    "def reverse_string(string):\n",
    "    stack = []\n",
    "\n",
    "    # Push each character onto the stack\n",
    "    for char in string:\n",
    "        stack.append(char)\n",
    "\n",
    "    reversed_string = \"\"\n",
    "\n",
    "    # Pop each character from the stack to create the reversed string\n",
    "    while stack:\n",
    "        reversed_string += stack.pop()\n",
    "\n",
    "    return reversed_string\n",
    "\n",
    "# Test case\n",
    "string = \"GeeksforGeeks\"\n",
    "reversed_string = reverse_string(string)\n",
    "print(reversed_string)  # Output: skeeGrofskeeG\n"
   ]
  },
  {
   "cell_type": "markdown",
   "metadata": {},
   "source": [
    "<aside>\n",
    "💡 **Question 6**\n",
    "\n",
    "Given string **S** representing a postfix expression, the task is to evaluate the expression and find the final value. Operators will only include the basic arithmetic operators like ***, /, + and -**.\n",
    "\n",
    "**Example 1:**\n",
    "```\n",
    "Input: S = \"231*+9-\"\n",
    "Output: -4\n",
    "Explanation:\n",
    "After solving the given expression,\n",
    "we have -4 as result.\n",
    "\n",
    "```\n",
    "Example 2:\n",
    "```\n",
    "Input: S = \"123+*8-\"\n",
    "Output: -3\n",
    "Explanation:\n",
    "After solving the given postfix\n",
    "expression, we have -3 as result.\n",
    "```\n",
    "</aside>"
   ]
  },
  {
   "cell_type": "code",
   "execution_count": 6,
   "metadata": {},
   "outputs": [
    {
     "name": "stdout",
     "output_type": "stream",
     "text": [
      "-4\n"
     ]
    }
   ],
   "source": [
    "def evaluate_postfix(expression):\n",
    "    stack = []\n",
    "\n",
    "    # Iterate through each character in the expression\n",
    "    for char in expression:\n",
    "        if char.isdigit():\n",
    "            stack.append(int(char))\n",
    "        else:\n",
    "            operand2 = stack.pop()\n",
    "            operand1 = stack.pop()\n",
    "\n",
    "            if char == '+':\n",
    "                result = operand1 + operand2\n",
    "            elif char == '-':\n",
    "                result = operand1 - operand2\n",
    "            elif char == '*':\n",
    "                result = operand1 * operand2\n",
    "            elif char == '/':\n",
    "                result = operand1 / operand2\n",
    "\n",
    "            stack.append(result)\n",
    "\n",
    "    return stack.pop()\n",
    "\n",
    "# Test case\n",
    "expression = \"231*+9-\"\n",
    "result = evaluate_postfix(expression)\n",
    "print(result)  # Output: -4\n"
   ]
  },
  {
   "cell_type": "markdown",
   "metadata": {},
   "source": [
    "<aside>\n",
    "💡 **Question 7**\n",
    "\n",
    "Design a stack that supports push, pop, top, and retrieving the minimum element in constant time.\n",
    "\n",
    "Implement the `MinStack` class:\n",
    "\n",
    "- `MinStack()` initializes the stack object.\n",
    "- `void push(int val)` pushes the element `val` onto the stack.\n",
    "- `void pop()` removes the element on the top of the stack.\n",
    "- `int top()` gets the top element of the stack.\n",
    "- `int getMin()` retrieves the minimum element in the stack.\n",
    "\n",
    "You must implement a solution with `O(1)` time complexity for each function.\n",
    "\n",
    "**Example 1:**\n",
    "```\n",
    "Input\n",
    "[\"MinStack\",\"push\",\"push\",\"push\",\"getMin\",\"pop\",\"top\",\"getMin\"]\n",
    "[[],[-2],[0],[-3],[],[],[],[]]\n",
    "\n",
    "Output\n",
    "[null,null,null,null,-3,null,0,-2]\n",
    "\n",
    "Explanation\n",
    "MinStack minStack = new MinStack();\n",
    "minStack.push(-2);\n",
    "minStack.push(0);\n",
    "minStack.push(-3);\n",
    "minStack.getMin(); // return -3\n",
    "minStack.pop();\n",
    "minStack.top();    // return 0\n",
    "minStack.getMin(); // return -2\n",
    "```\n",
    "</aside>"
   ]
  },
  {
   "cell_type": "code",
   "execution_count": 7,
   "metadata": {},
   "outputs": [
    {
     "name": "stdout",
     "output_type": "stream",
     "text": [
      "-3\n",
      "0\n",
      "-2\n"
     ]
    }
   ],
   "source": [
    "class MinStack:\n",
    "    def __init__(self):\n",
    "        self.stack = []\n",
    "        self.min_stack = []\n",
    "\n",
    "    def push(self, val):\n",
    "        self.stack.append(val)\n",
    "\n",
    "        if not self.min_stack or val <= self.min_stack[-1]:\n",
    "            self.min_stack.append(val)\n",
    "\n",
    "    def pop(self):\n",
    "        if self.stack:\n",
    "            if self.stack[-1] == self.min_stack[-1]:\n",
    "                self.min_stack.pop()\n",
    "            self.stack.pop()\n",
    "\n",
    "    def top(self):\n",
    "        if self.stack:\n",
    "            return self.stack[-1]\n",
    "        return None\n",
    "\n",
    "    def getMin(self):\n",
    "        if self.min_stack:\n",
    "            return self.min_stack[-1]\n",
    "        return None\n",
    "\n",
    "# Test case\n",
    "minStack = MinStack()\n",
    "minStack.push(-2)\n",
    "minStack.push(0)\n",
    "minStack.push(-3)\n",
    "print(minStack.getMin())  # Output: -3\n",
    "minStack.pop()\n",
    "print(minStack.top())     # Output: 0\n",
    "print(minStack.getMin())  # Output: -2\n"
   ]
  },
  {
   "attachments": {
    "image.png": {
     "image/png": "[encoded data removed]"
    }
   },
   "cell_type": "markdown",
   "metadata": {},
   "source": [
    "<aside>\n",
    "💡 **Question 8**\n",
    "\n",
    "Given `n` non-negative integers representing an elevation map where the width of each bar is `1`, compute how much water it can trap after raining.\n",
    "\n",
    "**Example 1:**\n",
    "\n",
    "![image.png](attachment:image.png)\n",
    "\n",
    "```\n",
    "Input: height = [0,1,0,2,1,0,1,3,2,1,2,1]\n",
    "Output: 6\n",
    "Explanation: The above elevation map (black section) is represented by array [0,1,0,2,1,0,1,3,2,1,2,1]. In this case, 6 units of rain water (blue section) are being trapped.\n",
    "\n",
    "```\n",
    "\n",
    "**Example 2:**\n",
    "```\n",
    "Input: height = [4,2,0,3,2,5]\n",
    "Output: 9\n",
    "```\n",
    "</aside>"
   ]
  },
  {
   "cell_type": "code",
   "execution_count": 8,
   "metadata": {},
   "outputs": [
    {
     "name": "stdout",
     "output_type": "stream",
     "text": [
      "6\n",
      "9\n"
     ]
    }
   ],
   "source": [
    "def trap_water(height):\n",
    "    if len(height) < 3:\n",
    "        return 0\n",
    "\n",
    "    n = len(height)\n",
    "    left_max = [0] * n\n",
    "    right_max = [0] * n\n",
    "\n",
    "    left_max[0] = height[0]\n",
    "    for i in range(1, n):\n",
    "        left_max[i] = max(left_max[i-1], height[i])\n",
    "\n",
    "    right_max[n-1] = height[n-1]\n",
    "    for i in range(n-2, -1, -1):\n",
    "        right_max[i] = max(right_max[i+1], height[i])\n",
    "\n",
    "    water = 0\n",
    "    for i in range(n):\n",
    "        water += min(left_max[i], right_max[i]) - height[i]\n",
    "\n",
    "    return water\n",
    "\n",
    "# Test case 1\n",
    "height1 = [0, 1, 0, 2, 1, 0, 1, 3, 2, 1, 2, 1]\n",
    "print(trap_water(height1))  # Output: 6\n",
    "\n",
    "# Test case 2\n",
    "height2 = [4, 2, 0, 3, 2, 5]\n",
    "print(trap_water(height2))  # Output: 9\n"
   ]
  },
  {
   "cell_type": "code",
   "execution_count": null,
   "metadata": {},
   "outputs": [],
   "source": []
  },
  {
   "cell_type": "code",
   "execution_count": null,
   "metadata": {},
   "outputs": [],
   "source": []
  },
  {
   "cell_type": "code",
   "execution_count": null,
   "metadata": {},
   "outputs": [],
   "source": []
  },
  {
   "cell_type": "code",
   "execution_count": null,
   "metadata": {},
   "outputs": [],
   "source": []
  },
  {
   "cell_type": "code",
   "execution_count": null,
   "metadata": {},
   "outputs": [],
   "source": []
  }
 ],
 "metadata": {
  "kernelspec": {
   "display_name": "base",
   "language": "python",
   "name": "python3"
  },
  "language_info": {
   "codemirror_mode": {
    "name": "ipython",
    "version": 3
   },
   "file_extension": ".py",
   "mimetype": "text/x-python",
   "name": "python",
   "nbconvert_exporter": "python",
   "pygments_lexer": "ipython3",
   "version": "3.8.5"
  },
  "orig_nbformat": 4
 },
 "nbformat": 4,
 "nbformat_minor": 2
}
